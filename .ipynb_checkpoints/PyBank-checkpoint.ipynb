{
 "cells": [
  {
   "cell_type": "code",
   "execution_count": 1,
   "metadata": {},
   "outputs": [
    {
     "name": "stdout",
     "output_type": "stream",
     "text": [
      "Total months: 86\n",
      "Total: $38382578\n",
      "Average Change: $-2315.12\n",
      "Greatest Increase in Profits: 12-Feb ($1926159)\n",
      "Greatest Decrease in Profits: 13-Sep ($-2196167)\n"
     ]
    }
   ],
   "source": [
    "import os\n",
    "import csv\n",
    "\n",
    "csvpath = os.path.join(\".\" , \"budget_data.csv\")\n",
    "# define all variables\n",
    "profit_sum = 0\n",
    "months = 0\n",
    "profit_change = 0\n",
    "total_change = 0\n",
    "largest_increase = 0\n",
    "largest_decrease = 0\n",
    "row_count = 0\n",
    "profit = []\n",
    "month_list = []\n",
    "greatest_increase_month = 0\n",
    "greatest_decrease_month = 0\n",
    "\n",
    "with open(csvpath,newline=\"\") as csvfile:\n",
    "    csvreader = csv.reader(csvfile, delimiter=\",\")\n",
    "    csv_header = next(csvreader)\n",
    "    \n",
    "# split csv values into 2 lists and count rows to determine number of months   \n",
    "    for row in csvreader:\n",
    "        profit.append(int(row[1]))\n",
    "        month_list.append(row[0])\n",
    "        profit_sum = profit_sum + (int(row[1]))\n",
    "        row_count = row_count + 1        \n",
    "        final_profit = row[1]\n",
    "        \n",
    "    print(f\"Total months: {row_count}\")\n",
    "    print(f\"Total: ${profit_sum}\")   \n",
    "\n",
    "# loop through lists to calculate changes between each month\n",
    "    for x in range (0,row_count - 1):\n",
    "        profit_change = int(profit[x+1]) - int(profit[x])\n",
    "        total_change = total_change + profit_change\n",
    "        \n",
    "#         largest increase\n",
    "        if (profit[x+1] - profit[x]) > largest_increase:\n",
    "            largest_increase = (profit[x+1] - profit[x])\n",
    "            greatest_increase_month = month_list[x+1]\n",
    "\n",
    "#         Largest decrease \n",
    "        if (profit[x+1] - profit[x]) < largest_decrease:\n",
    "            largest_decrease = (profit[x+1] - profit[x])\n",
    "            greatest_decrease_month = month_list[x+1]\n",
    "            \n",
    "    print(f\"Average Change: ${round(total_change/(row_count - 1),2)}\")\n",
    "    print(f\"Greatest Increase in Profits: {greatest_increase_month} (${largest_increase})\") \n",
    "    print(f\"Greatest Decrease in Profits: {greatest_decrease_month} (${largest_decrease})\") \n"
   ]
  }
 ],
 "metadata": {
  "kernelspec": {
   "display_name": "Python 3",
   "language": "python",
   "name": "python3"
  },
  "language_info": {
   "codemirror_mode": {
    "name": "ipython",
    "version": 3
   },
   "file_extension": ".py",
   "mimetype": "text/x-python",
   "name": "python",
   "nbconvert_exporter": "python",
   "pygments_lexer": "ipython3",
   "version": "3.7.6"
  }
 },
 "nbformat": 4,
 "nbformat_minor": 4
}
